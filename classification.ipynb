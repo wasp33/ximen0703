{
  "nbformat": 4,
  "nbformat_minor": 0,
  "metadata": {
    "colab": {
      "provenance": [],
      "authorship_tag": "ABX9TyOYoaWGGS/xK8fAcYXPb8Th",
      "include_colab_link": true
    },
    "kernelspec": {
      "name": "python3",
      "display_name": "Python 3"
    },
    "language_info": {
      "name": "python"
    }
  },
  "cells": [
    {
      "cell_type": "markdown",
      "metadata": {
        "id": "view-in-github",
        "colab_type": "text"
      },
      "source": [
        "<a href=\"https://colab.research.google.com/github/wasp33/ximen0703/blob/main/classification.ipynb\" target=\"_parent\"><img src=\"https://colab.research.google.com/assets/colab-badge.svg\" alt=\"Open In Colab\"/></a>"
      ]
    },
    {
      "cell_type": "markdown",
      "source": [
        "# Markdown\n",
        "Latex math 語法\n",
        "\n",
        "$ y = \\frac{1}{x+2} \\pi \\sum_{i=1}^n{a_i} $"
      ],
      "metadata": {
        "id": "jFJTkPPdqseb"
      }
    },
    {
      "cell_type": "code",
      "source": [],
      "metadata": {
        "id": "QfQodfyPkfId"
      },
      "execution_count": null,
      "outputs": []
    },
    {
      "cell_type": "code",
      "execution_count": null,
      "metadata": {
        "id": "QHKts4o6kKEh"
      },
      "outputs": [],
      "source": []
    }
  ]
}